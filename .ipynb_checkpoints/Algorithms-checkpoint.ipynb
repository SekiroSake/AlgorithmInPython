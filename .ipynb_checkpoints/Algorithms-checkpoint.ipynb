{
 "cells": [
  {
   "cell_type": "markdown",
   "metadata": {},
   "source": [
    "## 1 Given 2 strings check anagrams -> \" abaaa\" and \"baaaa\", ignore capital and space"
   ]
  },
  {
   "cell_type": "code",
   "execution_count": 25,
   "metadata": {
    "collapsed": false
   },
   "outputs": [],
   "source": [
    "def anagram(s1, s2):\n",
    "    s1 = s1.replace(' ','').lower()\n",
    "    s2 = s2.replace(' ','').lower()\n",
    "    # Edge case check\n",
    "    if len(s1) != len(s2):\n",
    "        return False\n",
    "    \n",
    "    count = {}\n",
    "    for letter in s1:\n",
    "        if letter in count:\n",
    "            count[letter] += 1\n",
    "        else:\n",
    "            count[letter] = 1\n",
    "    \n",
    "    for letter in s2:\n",
    "        if letter in count:\n",
    "            count[letter] -= 1\n",
    "        else:\n",
    "            count[letter] = 1\n",
    "    for k in count:\n",
    "        if count[k] != 0:\n",
    "            return False\n",
    "    return True\n",
    "    "
   ]
  },
  {
   "cell_type": "code",
   "execution_count": 26,
   "metadata": {
    "collapsed": true
   },
   "outputs": [],
   "source": [
    "def anagram2(s1, s2):\n",
    "    s1 = s1.replace(' ','').lower()\n",
    "    s2 = s2.replace(' ','').lower()\n",
    "    return sorted(s1) == sorted(s2)"
   ]
  },
  {
   "cell_type": "code",
   "execution_count": 27,
   "metadata": {
    "collapsed": false
   },
   "outputs": [
    {
     "data": {
      "text/plain": [
       "True"
      ]
     },
     "execution_count": 27,
     "metadata": {},
     "output_type": "execute_result"
    }
   ],
   "source": [
    "anagram('dog','god')"
   ]
  },
  {
   "cell_type": "code",
   "execution_count": 28,
   "metadata": {
    "collapsed": false
   },
   "outputs": [
    {
     "data": {
      "text/plain": [
       "False"
      ]
     },
     "execution_count": 28,
     "metadata": {},
     "output_type": "execute_result"
    }
   ],
   "source": [
    "anagram('a acss','scas')"
   ]
  },
  {
   "cell_type": "markdown",
   "metadata": {
    "collapsed": true
   },
   "source": [
    "## 2 Given an integer array, output all the unique pairs that sum up to a specific value K\n",
    "### e.g. pair_sum([1,3,2,2],4)\n",
    "### return 2,beacause of  (1,3) (2,2):1 + 3  =4 and 2 + 2 = 4"
   ]
  },
  {
   "cell_type": "code",
   "execution_count": 18,
   "metadata": {
    "collapsed": true
   },
   "outputs": [],
   "source": [
    "def pair_sum(arr, k):\n",
    "    if len(arr)<2:\n",
    "        return\n",
    "    # insert and find operation in set a both O(1)\n",
    "    seen = set()\n",
    "    output = set()\n",
    "    \n",
    "    for x in arr:\n",
    "        target = k-x\n",
    "        \n",
    "        if target not in seen:\n",
    "            # mark unmatched number as seen\n",
    "            seen.add(x)\n",
    "        else:     \n",
    "            output.add((min(x, target), max(x, target)))\n",
    "    \n",
    "######################## Return a turple #######################\n",
    "#     A tuple is a sequence of immutable Python objects.\n",
    "#     Tuples are sequences, just like lists. \n",
    "#     The differences between tuples and lists are, \n",
    "#     the tuples cannot be changed unlike lists and tuples use parentheses\n",
    "#    whereas lists use square brackets.\n",
    "################################################################\n",
    "\n",
    "######################## Map in python #########################\n",
    "# map() is a function with two arguments:\n",
    "# r = map(func, seq)\n",
    "# The first argument func is the name of a function and the second a sequence\n",
    "# (e.g. a list) seq. map() applies the function func to all the elements of the sequence seq. \n",
    "# It returns a new list with the elements changed by func\n",
    "# ################################################################\n",
    "######################### join ###################################\n",
    "# s = \"-\";\n",
    "# seq = (\"a\", \"b\", \"c\"); # This is sequence of strings.\n",
    "# print s.join( seq )\n",
    "# When we run above program, it produces following result −\n",
    "\n",
    "# a-b-c\n",
    "# ################################################################\n",
    "    print ('\\n'.join(map(str, list(output))))\n",
    "    print ()\n",
    "    return len(output), output\n",
    " "
   ]
  },
  {
   "cell_type": "code",
   "execution_count": 19,
   "metadata": {
    "collapsed": false
   },
   "outputs": [
    {
     "name": "stdout",
     "output_type": "stream",
     "text": [
      "(1, 3)\n",
      "(2, 2)\n",
      "\n"
     ]
    },
    {
     "data": {
      "text/plain": [
       "(2, {(1, 3), (2, 2)})"
      ]
     },
     "execution_count": 19,
     "metadata": {},
     "output_type": "execute_result"
    }
   ],
   "source": [
    "pair_sum([1,3,2,2],4)"
   ]
  },
  {
   "cell_type": "code",
   "execution_count": null,
   "metadata": {
    "collapsed": true
   },
   "outputs": [],
   "source": []
  }
 ],
 "metadata": {
  "kernelspec": {
   "display_name": "Python 3",
   "language": "python",
   "name": "python3"
  },
  "language_info": {
   "codemirror_mode": {
    "name": "ipython",
    "version": 3
   },
   "file_extension": ".py",
   "mimetype": "text/x-python",
   "name": "python",
   "nbconvert_exporter": "python",
   "pygments_lexer": "ipython3",
   "version": "3.6.0"
  }
 },
 "nbformat": 4,
 "nbformat_minor": 2
}
